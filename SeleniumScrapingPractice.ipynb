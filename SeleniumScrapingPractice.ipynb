{
 "cells": [
  {
   "cell_type": "code",
   "execution_count": null,
   "metadata": {},
   "outputs": [],
   "source": [
    "# Selenium, allows you to control a browser programmatically. Can be used to scrape data.\n",
    "# Already installed Selenium in virtual environment via terminal. Only imports neccessary here.\n",
    "%pip install --upgrade six\n",
    "%pip install selenium==3.141.0\n",
    "\n",
    "from selenium import webdriver\n",
    "from selenium.webdriver.chrome.service import Service\n",
    "import time"
   ]
  },
  {
   "cell_type": "code",
   "execution_count": 5,
   "metadata": {},
   "outputs": [
    {
     "name": "stdout",
     "output_type": "stream",
     "text": [
      "Country Name: Andorra\n",
      "Capital: Andorra la Vella\n",
      "Population: 84000\n",
      "Area (km2): 468.0\n"
     ]
    }
   ],
   "source": [
    "# Path for the driver saved on my windows computer\n",
    "driver_path = r\"C:\\Windows\\chromedriver\\chromedriver.exe\"\n",
    "\n",
    "# Sets up the webdriver with the provided path\n",
    "driver = webdriver.Chrome(executable_path=driver_path)\n",
    "\n",
    "# Navigate to the website\n",
    "driver.get(\"https://www.scrapethissite.com/\")\n",
    "\n",
    "# Perform Actions to get to the required data or text.\n",
    "\n",
    "button = driver.find_element_by_css_selector(\"a.btn.btn-lg.btn-default\")\n",
    "#potential simplier syntax for later: button1 = driver.find_element_by_css_selector(\"button.Explore Sandbox\")\n",
    "button.click() \n",
    "time.sleep(2) # Wait for the content to load before moving on in this code.  \n",
    "\n",
    "link = driver.find_element_by_css_selector(\"h3.page-title a[href='/pages/simple/']\")\n",
    "link.click()\n",
    "time.sleep(2)  \n",
    "\n",
    "# Find the first country element\n",
    "first_country = driver.find_element_by_css_selector(\"div.col-md-4.country\")\n",
    "\n",
    "# Scrape the country name, capital, population, and area for the first country\n",
    "country_name = first_country.find_element_by_css_selector(\"h3.country-name\").text\n",
    "country_capital = first_country.find_element_by_css_selector(\"span.country-capital\").text\n",
    "country_population = first_country.find_element_by_css_selector(\"span.country-population\").text\n",
    "country_area = first_country.find_element_by_css_selector(\"span.country-area\").text\n",
    "\n",
    "# Print the scraped data for the first country\n",
    "print(\"Country Name:\", country_name)\n",
    "print(\"Capital:\", country_capital)\n",
    "print(\"Population:\", country_population)\n",
    "print(\"Area (km2):\", country_area)\n",
    "\n",
    "# Close the browser\n",
    "driver.quit()"
   ]
  }
 ],
 "metadata": {
  "kernelspec": {
   "display_name": "Python 3",
   "language": "python",
   "name": "python3"
  },
  "language_info": {
   "codemirror_mode": {
    "name": "ipython",
    "version": 3
   },
   "file_extension": ".py",
   "mimetype": "text/x-python",
   "name": "python",
   "nbconvert_exporter": "python",
   "pygments_lexer": "ipython3",
   "version": "3.10.11"
  },
  "orig_nbformat": 4
 },
 "nbformat": 4,
 "nbformat_minor": 2
}
